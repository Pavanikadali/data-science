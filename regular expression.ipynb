{
 "cells": [
  {
   "cell_type": "code",
   "execution_count": 1,
   "id": "eb52999a",
   "metadata": {},
   "outputs": [],
   "source": [
    "import re\n",
    "import pandas as pd\n",
    "import numpy as np"
   ]
  },
  {
   "cell_type": "code",
   "execution_count": 2,
   "id": "03faf9c7",
   "metadata": {},
   "outputs": [],
   "source": [
    "fo = open('C:/Users/user/Desktop/too.txt','r')\n",
    "x = fo.read()\n",
    "fo.close()"
   ]
  },
  {
   "cell_type": "code",
   "execution_count": 3,
   "id": "3b1131fa",
   "metadata": {},
   "outputs": [
    {
     "data": {
      "text/plain": [
       "'abcdefghijklmnopqrstuvwxyz\\nABCDEFGHIJKLMNOPQRSTUVWXYZ\\npavanikadali@gmail.com\\ns.hareen@gmail.com\\nMr. something'"
      ]
     },
     "execution_count": 3,
     "metadata": {},
     "output_type": "execute_result"
    }
   ],
   "source": [
    "x"
   ]
  },
  {
   "cell_type": "code",
   "execution_count": 7,
   "id": "92e563ce",
   "metadata": {},
   "outputs": [
    {
     "name": "stdout",
     "output_type": "stream",
     "text": [
      "['pavanikadali@gmail.com', 's.hareen@gmail.com']\n"
     ]
    }
   ],
   "source": [
    "xr = re.findall(r'[\\w|\\.]*@gmail.com',x)\n",
    "print(xr)"
   ]
  },
  {
   "cell_type": "code",
   "execution_count": 9,
   "id": "efdb376b",
   "metadata": {},
   "outputs": [
    {
     "name": "stdout",
     "output_type": "stream",
     "text": [
      "None\n"
     ]
    }
   ],
   "source": [
    "res = re.match(r'[125]',x)\n",
    "print(res)"
   ]
  },
  {
   "cell_type": "code",
   "execution_count": 10,
   "id": "da52dd3d",
   "metadata": {},
   "outputs": [
    {
     "name": "stdout",
     "output_type": "stream",
     "text": [
      "<re.Match object; span=(0, 1), match='a'>\n"
     ]
    }
   ],
   "source": [
    "res = re.match(r'[abcw]',x)\n",
    "print(res)"
   ]
  },
  {
   "cell_type": "code",
   "execution_count": 13,
   "id": "a327e56f",
   "metadata": {},
   "outputs": [
    {
     "name": "stdout",
     "output_type": "stream",
     "text": [
      "(0, 2)\n"
     ]
    }
   ],
   "source": [
    "res = re.match(r'[a-z][a-z]',x)\n",
    "print(res.span())"
   ]
  },
  {
   "cell_type": "code",
   "execution_count": 23,
   "id": "192ef0a3",
   "metadata": {},
   "outputs": [
    {
     "name": "stdout",
     "output_type": "stream",
     "text": [
      "<re.Match object; span=(14, 30), match='November 30 1991'>\n",
      "Full match: November 30 1991\n",
      "Month: November\n",
      "Day: 30\n",
      "Year: 1991\n"
     ]
    }
   ],
   "source": [
    "regex = r\"([a-zA-Z]+) (\\d{2}) (\\d{4})\"\n",
    "string = \"I was born in November 30 1991\"\n",
    "s = re.search(regex,string)\n",
    "print(s)\n",
    "print(\"Full match: %s\" %(s.group()))\n",
    "print(\"Month: %s\" %(s.group(1)))\n",
    "print(\"Day: %s\" %(s.group(2)))\n",
    "print(\"Year: %s\" %(s.group(3)))"
   ]
  },
  {
   "cell_type": "markdown",
   "id": "9ab10c78",
   "metadata": {},
   "source": []
  },
  {
   "cell_type": "code",
   "execution_count": 24,
   "id": "8c54e18c",
   "metadata": {},
   "outputs": [
    {
     "name": "stdout",
     "output_type": "stream",
     "text": [
      "<re.Match object; span=(96, 99), match='Mr.'>\n"
     ]
    }
   ],
   "source": [
    "res1 = re.search(r'Mr\\.',x)\n",
    "print(res1)"
   ]
  },
  {
   "cell_type": "code",
   "execution_count": 28,
   "id": "f94f497d",
   "metadata": {},
   "outputs": [
    {
     "name": "stdout",
     "output_type": "stream",
     "text": [
      "<re.Match object; span=(96, 109), match='Mr. something'>\n"
     ]
    }
   ],
   "source": [
    "res1 = re.search(r'Mr\\. [a-zA-Z]+',x)\n",
    "print(res1)"
   ]
  },
  {
   "cell_type": "code",
   "execution_count": 27,
   "id": "1baf4274",
   "metadata": {},
   "outputs": [
    {
     "name": "stdout",
     "output_type": "stream",
     "text": [
      "['ab', 'cd', 'ef', 'gh', 'ij', 'kl', 'mn', 'op', 'qr', 'st', 'uv', 'wx', 'yz', 'pa', 'va', 'ni', 'ka', 'da', 'li', 'gm', 'ai', 'co', 'ha', 're', 'en', 'gm', 'ai', 'co', 'so', 'me', 'th', 'in']\n"
     ]
    }
   ],
   "source": [
    "res = re.findall(r'[a-z][a-z]',x)\n",
    "print(res)"
   ]
  },
  {
   "cell_type": "code",
   "execution_count": 29,
   "id": "72036c23",
   "metadata": {},
   "outputs": [
    {
     "name": "stdout",
     "output_type": "stream",
     "text": [
      "<callable_iterator object at 0x0000017B02605DF0>\n",
      "(0, 2)\n",
      "ab\n",
      "(2, 4)\n",
      "cd\n",
      "(4, 6)\n",
      "ef\n",
      "(6, 8)\n",
      "gh\n",
      "(8, 10)\n",
      "ij\n",
      "(10, 12)\n",
      "kl\n",
      "(12, 14)\n",
      "mn\n",
      "(14, 16)\n",
      "op\n",
      "(16, 18)\n",
      "qr\n",
      "(18, 20)\n",
      "st\n",
      "(20, 22)\n",
      "uv\n",
      "(22, 24)\n",
      "wx\n",
      "(24, 26)\n",
      "yz\n",
      "(54, 56)\n",
      "pa\n",
      "(56, 58)\n",
      "va\n",
      "(58, 60)\n",
      "ni\n",
      "(60, 62)\n",
      "ka\n",
      "(62, 64)\n",
      "da\n",
      "(64, 66)\n",
      "li\n",
      "(67, 69)\n",
      "gm\n",
      "(69, 71)\n",
      "ai\n",
      "(73, 75)\n",
      "co\n",
      "(79, 81)\n",
      "ha\n",
      "(81, 83)\n",
      "re\n",
      "(83, 85)\n",
      "en\n",
      "(86, 88)\n",
      "gm\n",
      "(88, 90)\n",
      "ai\n",
      "(92, 94)\n",
      "co\n",
      "(100, 102)\n",
      "so\n",
      "(102, 104)\n",
      "me\n",
      "(104, 106)\n",
      "th\n",
      "(106, 108)\n",
      "in\n"
     ]
    }
   ],
   "source": [
    "res = re.finditer(r'[a-z][a-z]',x)\n",
    "print(res)\n",
    "for i in res:\n",
    "    print(i.span())\n",
    "    print(i.group())"
   ]
  },
  {
   "cell_type": "code",
   "execution_count": 34,
   "id": "82f63aae",
   "metadata": {},
   "outputs": [
    {
     "name": "stdout",
     "output_type": "stream",
     "text": [
      "I was born on August 30 1991\n"
     ]
    }
   ],
   "source": [
    "string = \"I was born on November 30 1991\"\n",
    "res = re.sub(r'[A-Z][a-zA-Z]{7}','August',string)\n",
    "print(res)"
   ]
  },
  {
   "cell_type": "code",
   "execution_count": 39,
   "id": "62219d3f",
   "metadata": {},
   "outputs": [
    {
     "name": "stdout",
     "output_type": "stream",
     "text": [
      "original series:  0          A\n",
      "1          B\n",
      "2          C\n",
      "3      apple\n",
      "4        NaN\n",
      "5       good\n",
      "6          a\n",
      "7          b\n",
      "8          c\n",
      "9     pavani\n",
      "10     sanju\n",
      "dtype: object\n",
      "\n",
      " convert all said series into upper case:  0          A\n",
      "1          B\n",
      "2          C\n",
      "3      APPLE\n",
      "4        NaN\n",
      "5       GOOD\n",
      "6          A\n",
      "7          B\n",
      "8          C\n",
      "9     PAVANI\n",
      "10     SANJU\n",
      "dtype: object\n",
      "\n",
      " convert all said series into lower case:  0          a\n",
      "1          b\n",
      "2          c\n",
      "3      apple\n",
      "4        NaN\n",
      "5       good\n",
      "6          a\n",
      "7          b\n",
      "8          c\n",
      "9     pavani\n",
      "10     sanju\n",
      "dtype: object\n",
      "\n",
      " length of the said series:  0     1.0\n",
      "1     1.0\n",
      "2     1.0\n",
      "3     5.0\n",
      "4     NaN\n",
      "5     4.0\n",
      "6     1.0\n",
      "7     1.0\n",
      "8     1.0\n",
      "9     6.0\n",
      "10    5.0\n",
      "dtype: float64\n"
     ]
    }
   ],
   "source": [
    "s = pd.Series(['A', 'B', 'C', 'apple', np.nan, 'good', 'a', 'b', 'c', 'pavani', 'sanju'])\n",
    "print(\"original series: \",s)\n",
    "print(\"\\n convert all said series into upper case: \",s.str.upper())\n",
    "print(\"\\n convert all said series into lower case: \",s.str.lower())\n",
    "print(\"\\n length of the said series: \",s.str.len())"
   ]
  },
  {
   "cell_type": "code",
   "execution_count": 38,
   "id": "da1b15b5",
   "metadata": {},
   "outputs": [
    {
     "name": "stdout",
     "output_type": "stream",
     "text": [
      "original colours:  Index([' Red ', ' Green ', ' white ', ' Black ', ' Blue '], dtype='object')\n",
      "\n",
      " after removing whitespace:  Index(['Red', 'Green', 'white', 'Black', 'Blue'], dtype='object')\n",
      "\n",
      " after removing right sided whitespace:  Index([' Red', ' Green', ' white', ' Black', ' Blue'], dtype='object')\n",
      "\n",
      " after removing left sided whitespace:  Index(['Red ', 'Green ', 'white ', 'Black ', 'Blue '], dtype='object')\n"
     ]
    }
   ],
   "source": [
    "col = pd.Index([' Red ',' Green ',' white ',' Black ',' Blue '])\n",
    "print(\"original colours: \",col)\n",
    "print(\"\\n after removing whitespace: \",col.str.strip())\n",
    "print(\"\\n after removing right sided whitespace: \",col.str.rstrip())\n",
    "print(\"\\n after removing left sided whitespace: \",col.str.lstrip())\n"
   ]
  },
  {
   "cell_type": "code",
   "execution_count": 43,
   "id": "25a3cefd",
   "metadata": {},
   "outputs": [
    {
     "name": "stdout",
     "output_type": "stream",
     "text": [
      "original dataframe: \n",
      "   amount\n",
      "0       5\n",
      "1      25\n",
      "2     500\n",
      "3    1000\n",
      "4   10000\n",
      "5  250000\n",
      "\n",
      " add leading zeros: \n",
      "     amount\n",
      "0  00000005\n",
      "1  00000025\n",
      "2  00000500\n",
      "3  00001000\n",
      "4  00010000\n",
      "5  00250000\n"
     ]
    }
   ],
   "source": [
    "n = {'amount' : [5,25,500,1000,10000,250000]}\n",
    "print(\"original dataframe: \")\n",
    "df = pd.DataFrame(n)\n",
    "print(df)\n",
    "print(\"\\n add leading zeros: \")\n",
    "df['amount'] = df['amount'].apply(lambda x : '{0:0>8}'.format (x))\n",
    "print(df)"
   ]
  },
  {
   "cell_type": "code",
   "execution_count": 51,
   "id": "799f5f14",
   "metadata": {},
   "outputs": [
    {
     "name": "stdout",
     "output_type": "stream",
     "text": [
      "original dataframe: \n",
      "   amount\n",
      "0       5\n",
      "1      25\n",
      "2     500\n",
      "3    1000\n",
      "4   10000\n",
      "5  250000\n",
      "\n",
      " add leading zeros: \n"
     ]
    },
    {
     "ename": "NameError",
     "evalue": "name 'zfill' is not defined",
     "output_type": "error",
     "traceback": [
      "\u001b[1;31m---------------------------------------------------------------------------\u001b[0m",
      "\u001b[1;31mNameError\u001b[0m                                 Traceback (most recent call last)",
      "\u001b[1;32m<ipython-input-51-8270f632c6bc>\u001b[0m in \u001b[0;36m<module>\u001b[1;34m\u001b[0m\n\u001b[0;32m      4\u001b[0m \u001b[0mprint\u001b[0m\u001b[1;33m(\u001b[0m\u001b[0mdf\u001b[0m\u001b[1;33m)\u001b[0m\u001b[1;33m\u001b[0m\u001b[1;33m\u001b[0m\u001b[0m\n\u001b[0;32m      5\u001b[0m \u001b[0mprint\u001b[0m\u001b[1;33m(\u001b[0m\u001b[1;34m\"\\n add leading zeros: \"\u001b[0m\u001b[1;33m)\u001b[0m\u001b[1;33m\u001b[0m\u001b[1;33m\u001b[0m\u001b[0m\n\u001b[1;32m----> 6\u001b[1;33m \u001b[0mdf\u001b[0m\u001b[1;33m[\u001b[0m\u001b[1;34m'amount'\u001b[0m\u001b[1;33m]\u001b[0m \u001b[1;33m=\u001b[0m \u001b[0mlist\u001b[0m\u001b[1;33m(\u001b[0m\u001b[0mmap\u001b[0m\u001b[1;33m(\u001b[0m\u001b[1;32mlambda\u001b[0m \u001b[0mx\u001b[0m\u001b[1;33m:\u001b[0m \u001b[0mzfill\u001b[0m\u001b[1;33m(\u001b[0m\u001b[1;36m8\u001b[0m\u001b[1;33m)\u001b[0m \u001b[1;33m,\u001b[0m \u001b[0mdf\u001b[0m\u001b[1;33m[\u001b[0m\u001b[1;34m'amount'\u001b[0m\u001b[1;33m]\u001b[0m\u001b[1;33m)\u001b[0m\u001b[1;33m)\u001b[0m\u001b[1;33m\u001b[0m\u001b[1;33m\u001b[0m\u001b[0m\n\u001b[0m\u001b[0;32m      7\u001b[0m \u001b[0mprint\u001b[0m\u001b[1;33m(\u001b[0m\u001b[0mdf\u001b[0m\u001b[1;33m)\u001b[0m\u001b[1;33m\u001b[0m\u001b[1;33m\u001b[0m\u001b[0m\n",
      "\u001b[1;32m<ipython-input-51-8270f632c6bc>\u001b[0m in \u001b[0;36m<lambda>\u001b[1;34m(x)\u001b[0m\n\u001b[0;32m      4\u001b[0m \u001b[0mprint\u001b[0m\u001b[1;33m(\u001b[0m\u001b[0mdf\u001b[0m\u001b[1;33m)\u001b[0m\u001b[1;33m\u001b[0m\u001b[1;33m\u001b[0m\u001b[0m\n\u001b[0;32m      5\u001b[0m \u001b[0mprint\u001b[0m\u001b[1;33m(\u001b[0m\u001b[1;34m\"\\n add leading zeros: \"\u001b[0m\u001b[1;33m)\u001b[0m\u001b[1;33m\u001b[0m\u001b[1;33m\u001b[0m\u001b[0m\n\u001b[1;32m----> 6\u001b[1;33m \u001b[0mdf\u001b[0m\u001b[1;33m[\u001b[0m\u001b[1;34m'amount'\u001b[0m\u001b[1;33m]\u001b[0m \u001b[1;33m=\u001b[0m \u001b[0mlist\u001b[0m\u001b[1;33m(\u001b[0m\u001b[0mmap\u001b[0m\u001b[1;33m(\u001b[0m\u001b[1;32mlambda\u001b[0m \u001b[0mx\u001b[0m\u001b[1;33m:\u001b[0m \u001b[0mzfill\u001b[0m\u001b[1;33m(\u001b[0m\u001b[1;36m8\u001b[0m\u001b[1;33m)\u001b[0m \u001b[1;33m,\u001b[0m \u001b[0mdf\u001b[0m\u001b[1;33m[\u001b[0m\u001b[1;34m'amount'\u001b[0m\u001b[1;33m]\u001b[0m\u001b[1;33m)\u001b[0m\u001b[1;33m)\u001b[0m\u001b[1;33m\u001b[0m\u001b[1;33m\u001b[0m\u001b[0m\n\u001b[0m\u001b[0;32m      7\u001b[0m \u001b[0mprint\u001b[0m\u001b[1;33m(\u001b[0m\u001b[0mdf\u001b[0m\u001b[1;33m)\u001b[0m\u001b[1;33m\u001b[0m\u001b[1;33m\u001b[0m\u001b[0m\n",
      "\u001b[1;31mNameError\u001b[0m: name 'zfill' is not defined"
     ]
    }
   ],
   "source": [
    "n = {'amount' : [5,25,500,1000,10000,250000]}\n",
    "print(\"original dataframe: \")\n",
    "df = pd.DataFrame(n)\n",
    "print(df)\n",
    "print(\"\\n add leading zeros: \")\n",
    "df['amount'] = list(map(lambda x: zfill(8) , df['amount']))\n",
    "print(df)\n"
   ]
  },
  {
   "cell_type": "code",
   "execution_count": 61,
   "id": "f751b685",
   "metadata": {},
   "outputs": [
    {
     "name": "stdout",
     "output_type": "stream",
     "text": [
      "Original DataFrame:\n",
      "       name      date  age\n",
      "0    pavani  0.001370   29\n",
      "1    hareen  0.001007   34\n",
      "2  vedanshi  0.001238    2\n",
      "3     sanju  0.001493   11\n",
      "\n",
      "After capitalizing name column:\n",
      "       name      date  age\n",
      "0    Pavani  0.001370   29\n",
      "1    Hareen  0.001007   34\n",
      "2  Vedanshi  0.001238    2\n",
      "3     Sanju  0.001493   11\n"
     ]
    }
   ],
   "source": [
    "df = pd.DataFrame({'name': ['pavani','hareen','vedanshi','sanju'],\n",
    "                 'date' : [30/11/1991,18/9/1987,10/4/2019,12/4/2010],\n",
    "                 'age' : [29,34,2,11]})\n",
    "print(\"Original DataFrame:\")\n",
    "print(df)\n",
    "print(\"\\nAfter capitalizing name column:\")\n",
    "df['name'] = list(map(lambda x: x.capitalize(), df['name']))\n",
    "print(df)\n",
    "\n",
    "                 "
   ]
  },
  {
   "cell_type": "code",
   "execution_count": 67,
   "id": "f19fb45c",
   "metadata": {},
   "outputs": [
    {
     "name": "stdout",
     "output_type": "stream",
     "text": [
      "Original Dataframe: \n",
      "   Name      date  age\n",
      "0  c001  0.001370   29\n",
      "1  c002  0.001007   34\n",
      "2  c022  0.001238    2\n",
      "3  c222  0.001493   11\n",
      "\n",
      "after counting no of 2's in Name column: \n",
      "   Name      date  age  count\n",
      "0  c001  0.001370   29      0\n",
      "1  c002  0.001007   34      1\n",
      "2  c022  0.001238    2      2\n",
      "3  c222  0.001493   11      3\n"
     ]
    }
   ],
   "source": [
    "df = pd.DataFrame({'Name' : ['c001','c002','c022','c222'],\n",
    "                  'date' : [30/11/1991,18/9/1987,10/4/2019,12/4/2010],\n",
    "                 'age' : [29,34,2,11]})\n",
    "print(\"Original Dataframe: \")\n",
    "print(df)\n",
    "print(\"\\nafter counting no of 2's in Name column: \")\n",
    "df['count'] = list(map(lambda x : x.count(\"2\"), df['Name']))\n",
    "print(df)"
   ]
  },
  {
   "cell_type": "code",
   "execution_count": 68,
   "id": "555499ec",
   "metadata": {},
   "outputs": [
    {
     "name": "stdout",
     "output_type": "stream",
     "text": [
      "Original Dataframe: \n",
      "   Name      date  age\n",
      "0  c001  0.001370   29\n",
      "1  c002  0.001007   34\n",
      "2  c022  0.001238    2\n",
      "3  c222  0.001493   11\n",
      "\n",
      "after counting no of 2's in Name column: \n",
      "   Name      date  age  Index\n",
      "0  c001  0.001370   29     -1\n",
      "1  c002  0.001007   34      3\n",
      "2  c022  0.001238    2      2\n",
      "3  c222  0.001493   11      1\n"
     ]
    }
   ],
   "source": [
    "df = pd.DataFrame({'Name' : ['c001','c002','c022','c222'],\n",
    "                  'date' : [30/11/1991,18/9/1987,10/4/2019,12/4/2010],\n",
    "                 'age' : [29,34,2,11]})\n",
    "print(\"Original Dataframe: \")\n",
    "print(df)\n",
    "print(\"\\nafter counting no of 2's in Name column: \")\n",
    "df['Index'] = list(map(lambda x : x.find(\"2\"), df['Name']))\n",
    "print(df)"
   ]
  },
  {
   "cell_type": "code",
   "execution_count": 71,
   "id": "aea4c9b2",
   "metadata": {},
   "outputs": [
    {
     "name": "stdout",
     "output_type": "stream",
     "text": [
      "Original Dataframe: \n",
      "   Name      date  age\n",
      "0  c001  0.001370   29\n",
      "1  c002  0.001007   34\n",
      "2  c022  0.001238    2\n",
      "3  2c22  0.001493   11\n",
      "\n",
      "after indexing Name column: \n",
      "   Name      date  age  Index\n",
      "0  c001  0.001370   29      0\n",
      "1  c002  0.001007   34      0\n",
      "2  c022  0.001238    2      0\n",
      "3  2c22  0.001493   11      1\n"
     ]
    }
   ],
   "source": [
    "df = pd.DataFrame({'Name' : ['c001','c002','c022','2c22'],\n",
    "                  'date' : [30/11/1991,18/9/1987,10/4/2019,12/4/2010],\n",
    "                 'age' : [29,34,2,11]})\n",
    "print(\"Original Dataframe: \")\n",
    "print(df)\n",
    "print(\"\\nafter indexing Name column: \")\n",
    "df['Index'] = list(map(lambda x : x.find(\"c\",0,4), df['Name']))\n",
    "print(df)"
   ]
  },
  {
   "cell_type": "code",
   "execution_count": 74,
   "id": "fb13811a",
   "metadata": {},
   "outputs": [
    {
     "name": "stdout",
     "output_type": "stream",
     "text": [
      "Original Dataframe: \n",
      "          Name      date  age\n",
      "0      company  0.001370   29\n",
      "1  company a01  0.001007   34\n",
      "2   company 22  0.001238    2\n",
      "3         1222  0.001493   11\n",
      "\n",
      " Is Name column is alphanumeric ?: \n",
      "          Name      date  age  Name_alphanumeric\n",
      "0      company  0.001370   29               True\n",
      "1  company a01  0.001007   34              False\n",
      "2   company 22  0.001238    2              False\n",
      "3         1222  0.001493   11               True\n"
     ]
    }
   ],
   "source": [
    "df = pd.DataFrame({'Name' : ['company','company a01','company 22','1222'],\n",
    "                  'date' : [30/11/1991,18/9/1987,10/4/2019,12/4/2010],\n",
    "                 'age' : [29,34,2,11]})\n",
    "print(\"Original Dataframe: \")\n",
    "print(df)\n",
    "print(\"\\n Is Name column is alphanumeric ?: \")\n",
    "df['Name_alphanumeric'] = list(map(lambda x : x.isalnum(), df['Name']))\n",
    "print(df)"
   ]
  },
  {
   "cell_type": "code",
   "execution_count": 76,
   "id": "95ae9ce9",
   "metadata": {},
   "outputs": [
    {
     "name": "stdout",
     "output_type": "stream",
     "text": [
      "Original Dataframe: \n",
      "          Name      date  age\n",
      "0      company  0.001370   29\n",
      "1  company a01  0.001007   34\n",
      "2         CANO  0.001238    2\n",
      "3         1222  0.001493   11\n",
      "\n",
      " Is Name column is alphabetic?: \n",
      "          Name      date  age  Name_alphabetic\n",
      "0      company  0.001370   29             True\n",
      "1  company a01  0.001007   34            False\n",
      "2         CANO  0.001238    2             True\n",
      "3         1222  0.001493   11            False\n"
     ]
    }
   ],
   "source": [
    "df = pd.DataFrame({'Name' : ['company','company a01','CANO','1222'],\n",
    "                  'date' : [30/11/1991,18/9/1987,10/4/2019,12/4/2010],\n",
    "                 'age' : [29,34,2,11]})\n",
    "print(\"Original Dataframe: \")\n",
    "print(df)\n",
    "print(\"\\n Is Name column is alphabetic?: \")\n",
    "df['Name_alphabetic'] = list(map(lambda x : x.isalpha(), df['Name']))\n",
    "print(df)"
   ]
  },
  {
   "cell_type": "code",
   "execution_count": 78,
   "id": "ce4c518d",
   "metadata": {},
   "outputs": [
    {
     "name": "stdout",
     "output_type": "stream",
     "text": [
      "Original Dataframe: \n",
      "          Name      date  age\n",
      "0      company  0.001370   29\n",
      "1  company a01  0.001007   34\n",
      "2   company 22  0.001238    2\n",
      "3         1222  0.001493   11\n",
      "\n",
      " Is Name column is numeric ?: \n",
      "          Name      date  age  Name_digit\n",
      "0      company  0.001370   29       False\n",
      "1  company a01  0.001007   34       False\n",
      "2   company 22  0.001238    2       False\n",
      "3         1222  0.001493   11        True\n"
     ]
    }
   ],
   "source": [
    "df = pd.DataFrame({'Name' : ['company','company a01','company 22','1222'],\n",
    "                  'date' : [30/11/1991,18/9/1987,10/4/2019,12/4/2010],\n",
    "                 'age' : [29,34,2,11]})\n",
    "print(\"Original Dataframe: \")\n",
    "print(df)\n",
    "print(\"\\n Is Name column is numeric ?: \")\n",
    "df['Name_digit'] = list(map(lambda x : x.isdigit(), df['Name']))\n",
    "print(df)"
   ]
  },
  {
   "cell_type": "code",
   "execution_count": 82,
   "id": "fff219d0",
   "metadata": {},
   "outputs": [
    {
     "name": "stdout",
     "output_type": "stream",
     "text": [
      "Original Dataframe: \n",
      "          Name      date  age\n",
      "0      compaCD  0.001370   29\n",
      "1  company a01  0.001007   34\n",
      "2         CSAB  0.001238    2\n",
      "3        htuyv  0.001493   11\n",
      "\n",
      " Is Name column is lower or upper?: \n",
      "          Name      date  age  Name_upper  Name_lower\n",
      "0      compaCD  0.001370   29       False       False\n",
      "1  company a01  0.001007   34       False        True\n",
      "2         CSAB  0.001238    2        True       False\n",
      "3        htuyv  0.001493   11       False        True\n"
     ]
    }
   ],
   "source": [
    "df = pd.DataFrame({'Name' : ['compaCD','company a01','CSAB','htuyv'],\n",
    "                  'date' : [30/11/1991,18/9/1987,10/4/2019,12/4/2010],\n",
    "                 'age' : [29,34,2,11]})\n",
    "print(\"Original Dataframe: \")\n",
    "print(df)\n",
    "\n",
    "df['Name_upper'] = list(map(lambda x : x.isupper(), df['Name']))\n",
    "\n",
    "print(\"\\n Is Name column is lower or upper?: \")\n",
    "df['Name_lower'] = list(map(lambda x : x.islower(), df['Name']))\n",
    "print(df)"
   ]
  },
  {
   "cell_type": "code",
   "execution_count": 83,
   "id": "5f369cdb",
   "metadata": {},
   "outputs": [
    {
     "name": "stdout",
     "output_type": "stream",
     "text": [
      "Original Dataframe: \n",
      "          Name      date  age\n",
      "0      Company  0.001370   29\n",
      "1  company a01  0.001007   34\n",
      "2         CXDS  0.001238    2\n",
      "3         1222  0.001493   11\n",
      "\n",
      " Is Name column is proper or title ?: \n",
      "          Name      date  age  Name_title\n",
      "0      Company  0.001370   29        True\n",
      "1  company a01  0.001007   34       False\n",
      "2         CXDS  0.001238    2       False\n",
      "3         1222  0.001493   11       False\n"
     ]
    }
   ],
   "source": [
    "df = pd.DataFrame({'Name' : ['Company','company a01','CXDS','1222'],\n",
    "                  'date' : [30/11/1991,18/9/1987,10/4/2019,12/4/2010],\n",
    "                 'age' : [29,34,2,11]})\n",
    "print(\"Original Dataframe: \")\n",
    "print(df)\n",
    "print(\"\\n Is Name column is proper or title ?: \")\n",
    "df['Name_title'] = list(map(lambda x : x.istitle(), df['Name']))\n",
    "print(df)"
   ]
  },
  {
   "cell_type": "code",
   "execution_count": 84,
   "id": "8346d6da",
   "metadata": {},
   "outputs": [
    {
     "name": "stdout",
     "output_type": "stream",
     "text": [
      "Original Dataframe: \n",
      "          Name      date  age\n",
      "0      company  0.001370   29\n",
      "1  company a01  0.001007   34\n",
      "2   company 22  0.001238    2\n",
      "3               0.001493   11\n",
      "\n",
      " Is Name column contains only space ?: \n",
      "          Name      date  age  Name_space\n",
      "0      company  0.001370   29       False\n",
      "1  company a01  0.001007   34       False\n",
      "2   company 22  0.001238    2       False\n",
      "3               0.001493   11        True\n"
     ]
    }
   ],
   "source": [
    "df = pd.DataFrame({'Name' : ['company','company a01','company 22',' '],\n",
    "                  'date' : [30/11/1991,18/9/1987,10/4/2019,12/4/2010],\n",
    "                 'age' : [29,34,2,11]})\n",
    "print(\"Original Dataframe: \")\n",
    "print(df)\n",
    "print(\"\\n Is Name column contains only space ?: \")\n",
    "df['Name_space'] = list(map(lambda x : x.isspace(), df['Name']))\n",
    "print(df)"
   ]
  },
  {
   "cell_type": "code",
   "execution_count": 87,
   "id": "86ff292c",
   "metadata": {},
   "outputs": [
    {
     "name": "stdout",
     "output_type": "stream",
     "text": [
      "Original Dataframe: \n",
      "          Name      date  age\n",
      "0      company  0.001370   29\n",
      "1  company a01  0.001007   34\n",
      "2   company 22  0.001238    2\n",
      "3         1222  0.001493   11\n",
      "\n",
      " length of the string is: \n",
      "          Name      date  age  Name_length\n",
      "0      company  0.001370   29            7\n",
      "1  company a01  0.001007   34           11\n",
      "2   company 22  0.001238    2           10\n",
      "3         1222  0.001493   11            4\n"
     ]
    }
   ],
   "source": [
    "df = pd.DataFrame({'Name' : ['company','company a01','company 22','1222'],\n",
    "                  'date' : [30/11/1991,18/9/1987,10/4/2019,12/4/2010],\n",
    "                 'age' : [29,34,2,11]})\n",
    "print(\"Original Dataframe: \")\n",
    "print(df)\n",
    "print(\"\\n length of the string is: \")\n",
    "df['Name_length'] = df['Name'].apply(len)\n",
    "print(df)"
   ]
  },
  {
   "cell_type": "code",
   "execution_count": 89,
   "id": "5539fcb1",
   "metadata": {},
   "outputs": [
    {
     "name": "stdout",
     "output_type": "stream",
     "text": [
      "Original Dataframe: \n",
      "          Name      date    age\n",
      "0      company  0.001370  29.11\n",
      "1  company a01  0.001007  34.22\n",
      "2   company 22  0.001238   2.80\n",
      "3         1222  0.001493  11.10\n",
      "\n",
      " length of the integers: \n",
      "          Name      date    age  age_length\n",
      "0      company  0.001370  29.11           5\n",
      "1  company a01  0.001007  34.22           5\n",
      "2   company 22  0.001238   2.80           3\n",
      "3         1222  0.001493  11.10           4\n"
     ]
    }
   ],
   "source": [
    "df = pd.DataFrame({'Name' : ['company','company a01','company 22','1222'],\n",
    "                  'date' : [30/11/1991,18/9/1987,10/4/2019,12/4/2010],\n",
    "                 'age' : [29.11,34.22,2.8,11.10]})\n",
    "print(\"Original Dataframe: \")\n",
    "print(df)\n",
    "print(\"\\n length of the integers: \")\n",
    "df['age_length'] = df['age'].map(str).apply(len)\n",
    "print(df)"
   ]
  },
  {
   "cell_type": "code",
   "execution_count": 90,
   "id": "199c2b14",
   "metadata": {},
   "outputs": [
    {
     "name": "stdout",
     "output_type": "stream",
     "text": [
      "Original Dataframe: \n",
      "          Name      date  age\n",
      "0      company  0.001370   29\n",
      "1  company a01  0.001007   34\n",
      "2        acv22  0.001238    2\n",
      "3         1222  0.001493   11\n",
      "\n",
      " is any string starts with particular word: \n",
      "          Name      date  age  Name_letter\n",
      "0      company  0.001370   29         True\n",
      "1  company a01  0.001007   34         True\n",
      "2        acv22  0.001238    2        False\n",
      "3         1222  0.001493   11        False\n"
     ]
    }
   ],
   "source": [
    "df = pd.DataFrame({'Name' : ['company','company a01','acv22','1222'],\n",
    "                  'date' : [30/11/1991,18/9/1987,10/4/2019,12/4/2010],\n",
    "                 'age' : [29,34,2,11]})\n",
    "print(\"Original Dataframe: \")\n",
    "print(df)\n",
    "print(\"\\n is any string starts with particular word: \")\n",
    "df['Name_letter'] = list(map(lambda x : x.startswith('com'), df['Name']))\n",
    "print(df)"
   ]
  },
  {
   "cell_type": "code",
   "execution_count": 92,
   "id": "8e6dab79",
   "metadata": {},
   "outputs": [
    {
     "name": "stdout",
     "output_type": "stream",
     "text": [
      "Original Dataframe: \n",
      "          Name      date  age\n",
      "0      company  0.001370   29\n",
      "1  company a01  0.001007   34\n",
      "2   company 22  0.001238    2\n",
      "3         1222  0.001493   11\n",
      "\n",
      " upper case in Name: \n",
      "          Name      date  age  Name_upper\n",
      "0      company  0.001370   29       False\n",
      "1  company a01  0.001007   34       False\n",
      "2   company 22  0.001238    2       False\n",
      "3         1222  0.001493   11       False\n",
      "\n",
      " lower case in Name: \n",
      "          Name      date  age  Name_lower\n",
      "0      company  0.001370   29        True\n",
      "1  company a01  0.001007   34        True\n",
      "2   company 22  0.001238    2        True\n",
      "3         1222  0.001493   11       False\n"
     ]
    }
   ],
   "source": [
    "df = pd.DataFrame({'Name' : ['company','company a01','company 22','1222'],\n",
    "                  'date' : [30/11/1991,18/9/1987,10/4/2019,12/4/2010],\n",
    "                 'age' : [29,34,2,11]})\n",
    "df1 = pd.DataFrame({'Name' : ['company','company a01','company 22','1222'],\n",
    "                  'date' : [30/11/1991,18/9/1987,10/4/2019,12/4/2010],\n",
    "                 'age' : [29,34,2,11]})\n",
    "print(\"Original Dataframe: \")\n",
    "print(df)\n",
    "print(\"\\n upper case in Name: \")\n",
    "df['Name_upper'] = list(map(lambda x : x.isupper(), df['Name']))\n",
    "print(df)\n",
    "print(\"\\n lower case in Name: \")\n",
    "df1['Name_lower'] = list(map(lambda x: x.islower(), df1['Name']))\n",
    "print(df1)"
   ]
  },
  {
   "cell_type": "code",
   "execution_count": 99,
   "id": "64e96d4c",
   "metadata": {},
   "outputs": [
    {
     "name": "stdout",
     "output_type": "stream",
     "text": [
      "original Dataframe: \n",
      "          Name      date  age\n",
      "0      company  0.001370   29\n",
      "1  company a01  0.001007   34\n",
      "2   company 22  0.001238    2\n",
      "3         1222  0.001493   11\n",
      "\n",
      " Dataframe in title: \n",
      "          Name      date  age   Name_title\n",
      "0      company  0.001370   29      Company\n",
      "1  company a01  0.001007   34  Company A01\n",
      "2   company 22  0.001238    2   Company 22\n",
      "3         1222  0.001493   11         1222\n"
     ]
    }
   ],
   "source": [
    "df = pd.DataFrame({'Name' : ['company','company a01','company 22','1222'],\n",
    "                  'date' : [30/11/1991,18/9/1987,10/4/2019,12/4/2010],\n",
    "                 'age' : [29,34,2,11]})\n",
    "print(\"original Dataframe: \")\n",
    "print(df)\n",
    "print(\"\\n Dataframe in title: \")\n",
    "df[\"Name_title\"] = list(map(lambda x : x.title(),df[\"Name\"]))\n",
    "print(df)"
   ]
  },
  {
   "cell_type": "code",
   "execution_count": 104,
   "id": "d22f7e80",
   "metadata": {},
   "outputs": [
    {
     "name": "stdout",
     "output_type": "stream",
     "text": [
      "Original Dataframe: \n",
      "  Name      date  age\n",
      "0    A  0.001370   29\n",
      "1    B  0.001007   34\n",
      "2    C  0.001238    2\n",
      "3    D  0.001493   11\n",
      "\n",
      " replaced name: \n",
      "  Name      date  age\n",
      "0    A  0.001370   30\n",
      "1    B  0.001007   34\n",
      "2    C  0.001238    2\n",
      "3    D  0.001493   11\n"
     ]
    }
   ],
   "source": [
    "df = pd.DataFrame({'Name' : ['A','B','C','D'],\n",
    "                  'date' : [30/11/1991,18/9/1987,10/4/2019,12/4/2010],\n",
    "                 'age' : [29,34,2,11]})\n",
    "print(\"Original Dataframe: \")\n",
    "print(df)\n",
    "print(\"\\n replaced name: \")\n",
    "df = df.replace(29,30)\n",
    "print(df)"
   ]
  },
  {
   "cell_type": "code",
   "execution_count": 107,
   "id": "de05eca7",
   "metadata": {},
   "outputs": [
    {
     "name": "stdout",
     "output_type": "stream",
     "text": [
      "Original Dataframe: \n",
      "  Name      date  age\n",
      "0    A  0.001370   29\n",
      "1    B  0.001007   34\n",
      "2    C  0.001238    2\n",
      "3    D  0.001493   11\n",
      "\n",
      " replaced name: \n",
      "  Name      date  age\n",
      "0    x  0.001370   29\n",
      "1    Y  0.001007   34\n",
      "2    U  0.001238    2\n",
      "3    V  0.001493   11\n"
     ]
    }
   ],
   "source": [
    "df = pd.DataFrame({'Name' : ['A','B','C','D'],\n",
    "                  'date' : [30/11/1991,18/9/1987,10/4/2019,12/4/2010],\n",
    "                 'age' : [29,34,2,11]})\n",
    "print(\"Original Dataframe: \")\n",
    "print(df)\n",
    "print(\"\\n replaced name: \")\n",
    "df = df.replace([\"A\",\"B\",\"C\",\"D\"], [\"x\",\"Y\",\"U\",\"V\"])\n",
    "print(df)"
   ]
  },
  {
   "cell_type": "code",
   "execution_count": 108,
   "id": "e9e02c4f",
   "metadata": {},
   "outputs": [
    {
     "name": "stdout",
     "output_type": "stream",
     "text": [
      "Original Dataframe: \n",
      "                 name date_of_birth    age\n",
      "0     Alberto  Franco     17/05/2002  18.5\n",
      "1    Gino Ann Mcneill     16/02/1999  21.2\n",
      "2        Ryan  Parkes     25/09/1998  22.5\n",
      "3  Eesha Artur Hinton     11/05/2002  22.0\n",
      "4       Syed  Wharton     15/09/1997  23.0\n",
      "Modified Dataframe: \n",
      "                 name date_of_birth    age    First Middle     Last\n",
      "0     Alberto  Franco     17/05/2002  18.5  Alberto          Franco\n",
      "1    Gino Ann Mcneill     16/02/1999  21.2     Gino    Ann  Mcneill\n",
      "2        Ryan  Parkes     25/09/1998  22.5     Ryan          Parkes\n",
      "3  Eesha Artur Hinton     11/05/2002  22.0    Eesha  Artur   Hinton\n",
      "4       Syed  Wharton     15/09/1997  23.0     Syed         Wharton\n"
     ]
    }
   ],
   "source": [
    "df = pd.DataFrame({\n",
    "    'name': ['Alberto  Franco','Gino Ann Mcneill','Ryan  Parkes', 'Eesha Artur Hinton', 'Syed  Wharton'],\n",
    "    'date_of_birth ': ['17/05/2002','16/02/1999','25/09/1998','11/05/2002','15/09/1997'],\n",
    "    'age': [18.5, 21.2, 22.5, 22, 23]})\n",
    "print(\"Original Dataframe: \")\n",
    "print(df)\n",
    "df[[\"First\",\"Middle\",\"Last\"]] = df[\"name\"].str.split(\" \", expand = True)\n",
    "print(\"Modified Dataframe: \")\n",
    "print(df)\n"
   ]
  },
  {
   "cell_type": "code",
   "execution_count": 110,
   "id": "608f7522",
   "metadata": {},
   "outputs": [
    {
     "name": "stdout",
     "output_type": "stream",
     "text": [
      "Original Dataframe: \n",
      "                   Name_email\n",
      "0   pavanikadali333@gmail.com\n",
      "1  s.hareenkumar118@gmail.com\n",
      "2    pavani.cool333@gmail.com\n",
      "3                pavanihareen\n",
      "\n",
      " extracting email from dataframe columns: \n",
      "                   Name_email                       email\n",
      "0   pavanikadali333@gmail.com   pavanikadali333@gmail.com\n",
      "1  s.hareenkumar118@gmail.com  s.hareenkumar118@gmail.com\n",
      "2    pavani.cool333@gmail.com    pavani.cool333@gmail.com\n",
      "3                pavanihareen                            \n"
     ]
    }
   ],
   "source": [
    "pd.set_option('display.max_columns', 10)\n",
    "df = pd.DataFrame({'Name_email' : ['pavanikadali333@gmail.com','s.hareenkumar118@gmail.com','pavani.cool333@gmail.com','pavanihareen']})\n",
    "print(\"Original Dataframe: \")\n",
    "print(df)\n",
    "def find_email(text):\n",
    "    email = re.findall(r'[\\w\\.-]+@[\\w\\.-]+',str(text))\n",
    "    return ','.join(email)\n",
    "df['email'] = df['Name_email'].apply(lambda x : find_email(x))\n",
    "print(\"\\n extracting email from dataframe columns: \")\n",
    "print(df)"
   ]
  },
  {
   "cell_type": "code",
   "execution_count": 114,
   "id": "6fe988cf",
   "metadata": {},
   "outputs": [
    {
     "name": "stdout",
     "output_type": "stream",
     "text": [
      "Original Dataframe: \n",
      "                                  tweets\n",
      "0                    #Obama says goodbye\n",
      "1                     Retweets for #cash\n",
      "2  A political endorsement in #Indonesia\n",
      "3                 1 dog = many #retweets\n",
      "4                     Just a simple #egg\n",
      "\n",
      " Extracting #@ from Dataframe: \n",
      "                                  tweets   hash_word\n",
      "0                    #Obama says goodbye      #Obama\n",
      "1                     Retweets for #cash       #cash\n",
      "2  A political endorsement in #Indonesia  #Indonesia\n",
      "3                 1 dog = many #retweets   #retweets\n",
      "4                     Just a simple #egg        #egg\n"
     ]
    }
   ],
   "source": [
    "pd.set_option(\"display.max_columns\", (10))\n",
    "df = pd.DataFrame({'tweets': ['#Obama says goodbye','Retweets for #cash','A political endorsement in #Indonesia', '1 dog = many #retweets', 'Just a simple #egg']})\n",
    "print(\"Original Dataframe: \")\n",
    "print(df)\n",
    "def find_hash(text):\n",
    "    hword = re.findall(r'[?<=#]\\w+',text)\n",
    "    return \" \".join(hword)\n",
    "df[\"hash_word\"] = df['tweets'].apply(lambda x:find_hash(x))\n",
    "print(\"\\n Extracting #@ from Dataframe: \")\n",
    "print(df)"
   ]
  },
  {
   "cell_type": "code",
   "execution_count": 4,
   "id": "88549f68",
   "metadata": {},
   "outputs": [
    {
     "name": "stdout",
     "output_type": "stream",
     "text": [
      "Original Dataframe: \n",
      "                                  tweets\n",
      "0                    @Obama says goodbye\n",
      "1                     Retweets for @cash\n",
      "2  A political endorsement in @Indonesia\n",
      "3                 1 dog = many @retweets\n",
      "4                     Just a simple #egg\n",
      "\n",
      " Extracting @ from Dataframe: \n",
      "                                  tweets     at_word\n",
      "0                    @Obama says goodbye      @Obama\n",
      "1                     Retweets for @cash       @cash\n",
      "2  A political endorsement in @Indonesia  @Indonesia\n",
      "3                 1 dog = many @retweets   @retweets\n",
      "4                     Just a simple #egg            \n"
     ]
    }
   ],
   "source": [
    "pd.set_option(\"display.max_columns\", (10))\n",
    "df = pd.DataFrame({'tweets': ['@Obama says goodbye','Retweets for @cash','A political endorsement in @Indonesia', '1 dog = many @retweets', 'Just a simple #egg']})\n",
    "print(\"Original Dataframe: \")\n",
    "print(df)\n",
    "def find_at_word(text):\n",
    "    word = re.findall(r'[?<=@]\\w+',text)\n",
    "    return \" \".join(word)\n",
    "df['at_word'] = df['tweets'].apply(lambda x:find_at_word(x))\n",
    "print('\\n Extracting @ from Dataframe: ')\n",
    "print(df)"
   ]
  },
  {
   "cell_type": "code",
   "execution_count": 5,
   "id": "70c28f19",
   "metadata": {},
   "outputs": [
    {
     "name": "stdout",
     "output_type": "stream",
     "text": [
      "Original Dataframe: \n",
      "                                       tweets\n",
      "0                     #Obama says 233 goodbye\n",
      "1                      Retweets 345 for #cash\n",
      "2  A political 5611 endorsement in #Indonesia\n",
      "3                      1 dog = many #retweets\n",
      "4                          Just a simple #egg\n",
      "\n",
      " Extracting numbers from Dataframe: \n",
      "                                       tweets number\n",
      "0                     #Obama says 233 goodbye    233\n",
      "1                      Retweets 345 for #cash    345\n",
      "2  A political 5611 endorsement in #Indonesia   5611\n",
      "3                      1 dog = many #retweets      1\n",
      "4                          Just a simple #egg       \n"
     ]
    }
   ],
   "source": [
    "pd.set_option(\"display.max_columns\", (10))\n",
    "df = pd.DataFrame({'tweets': ['#Obama says 233 goodbye','Retweets 345 for #cash','A political 5611 endorsement in #Indonesia', '1 dog = many #retweets', 'Just a simple #egg']})\n",
    "print(\"Original Dataframe: \")\n",
    "print(df)\n",
    "def find_number(text):\n",
    "    num = re.findall(r'[0-9]+',text)\n",
    "    return \" \".join(num)\n",
    "df['number'] = df['tweets'].apply(lambda x : find_number(x))\n",
    "print(\"\\n Extracting numbers from Dataframe: \")\n",
    "print(df)"
   ]
  },
  {
   "cell_type": "code",
   "execution_count": 11,
   "id": "e9ef8bda",
   "metadata": {},
   "outputs": [
    {
     "name": "stdout",
     "output_type": "stream",
     "text": [
      "Original Dataframe: \n",
      "                    phone\n",
      "0          9052348533 bye\n",
      "1        8424983384 #cash\n",
      "2   9652115673 #Indonesia\n",
      "3  1 dog = many #retweets\n",
      "4      9885 a simple #egg\n",
      "\n",
      " Extracting phone number from Dataframe: \n",
      "                    phone      number\n",
      "0          9052348533 bye  9052348533\n",
      "1        8424983384 #cash  8424983384\n",
      "2   9652115673 #Indonesia  9652115673\n",
      "3  1 dog = many #retweets            \n",
      "4      9885 a simple #egg            \n"
     ]
    }
   ],
   "source": [
    "pd.set_option(\"display.max_columns\", (10))\n",
    "df = pd.DataFrame({'phone': [' 9052348533 bye','8424983384 #cash','9652115673 #Indonesia', '1 dog = many #retweets', '9885 a simple #egg']})\n",
    "print(\"Original Dataframe: \")\n",
    "print(df)\n",
    "def find_phone_number(text):\n",
    "    num = re.findall(r\"\\b\\d{10}\\b\",text)\n",
    "    return \" \".join(num)\n",
    "df['number'] = df['phone'].apply(lambda x : find_phone_number(x))\n",
    "print(\"\\n Extracting phone number from Dataframe: \")\n",
    "print(df)"
   ]
  },
  {
   "cell_type": "code",
   "execution_count": 18,
   "id": "6b8378d1",
   "metadata": {},
   "outputs": [
    {
     "name": "stdout",
     "output_type": "stream",
     "text": [
      "Original Dataframe: \n",
      "        year\n",
      "0  year 1700\n",
      "1  year 1800\n",
      "2  year 2010\n",
      "3  year 1990\n",
      "4  year 2021\n",
      "\n",
      " Extracting year between 1800 and 2200: \n",
      "        year year_range\n",
      "0  year 1700         []\n",
      "1  year 1800     [1800]\n",
      "2  year 2010     [2010]\n",
      "3  year 1990     [1990]\n",
      "4  year 2021     [2021]\n"
     ]
    }
   ],
   "source": [
    "pd.set_option(\"display.max_columns\", (10))\n",
    "df = pd.DataFrame({'year': ['year 1700','year 1800','year 2010', 'year 1990', 'year 2021']})\n",
    "print(\"Original Dataframe: \")\n",
    "print(df)\n",
    "def find_year(text):\n",
    "    year = re.findall(r\"\\b(18[0-8][0-9]|19[0-8][0-9]|199[0-9]{1}|2[0-8][0-9]{2}|2200)\\b\",text)\n",
    "    return year\n",
    "df['year_range'] = df['year'].apply(lambda x : find_year(x))\n",
    "print(\"\\n Extracting year between 1800 and 2200: \")\n",
    "print(df)"
   ]
  },
  {
   "cell_type": "code",
   "execution_count": 20,
   "id": "c514c23d",
   "metadata": {},
   "outputs": [
    {
     "name": "stdout",
     "output_type": "stream",
     "text": [
      "Original Dataframe: \n",
      "  company\n",
      "0  #cc001\n",
      "1   485k@\n",
      "2    gty%\n",
      "3    &45k\n",
      "4   *uy12\n",
      "\n",
      " Extracting special characters from dataframe: \n",
      "  company special\n",
      "0  #cc001     [#]\n",
      "1   485k@     [@]\n",
      "2    gty%     [%]\n",
      "3    &45k     [&]\n",
      "4   *uy12     [*]\n"
     ]
    }
   ],
   "source": [
    "pd.set_option(\"display.max_columns\", (10))\n",
    "df = pd.DataFrame({'company': ['#cc001','485k@','gty%', '&45k', '*uy12']})\n",
    "print(\"Original Dataframe: \")\n",
    "print(df)\n",
    "def find_nonalpha(text):\n",
    "    nonalpha = re.findall(\"[^A-Za-z0-9]\",text)\n",
    "    return nonalpha\n",
    "df['special'] = df['company'].apply(lambda x : find_nonalpha(x))\n",
    "print(\"\\n Extracting special characters from dataframe: \")\n",
    "print(df)"
   ]
  },
  {
   "cell_type": "code",
   "execution_count": 2,
   "id": "2084f4e7",
   "metadata": {},
   "outputs": [
    {
     "name": "stdout",
     "output_type": "stream",
     "text": [
      "Original Dataframe: \n",
      "  company\n",
      "0  !cc001\n",
      "1   485k!\n",
      "2    gty%\n",
      "3    !45k\n",
      "4  *uy!12\n",
      "  company result\n",
      "0  !cc001      !\n",
      "1   485k!      !\n",
      "2    gty%      %\n",
      "3    !45k      !\n",
      "4  *uy!12    * !\n"
     ]
    }
   ],
   "source": [
    "pd.set_option(\"display.max_columns\", (10))\n",
    "df = pd.DataFrame({'company': ['!cc001','485k!','gty%', '!45k', '*uy!12']})\n",
    "print(\"Original Dataframe: \")\n",
    "print(df)\n",
    "def find_punctuation(text):\n",
    "    result = re.findall(r'[!@#$%^&*()_+{}|:\"<>\"/;'']',text)\n",
    "    return \" \".join(result)\n",
    "df['result'] = df['company'].apply(lambda x : find_punctuation(x))\n",
    "print(df)"
   ]
  },
  {
   "cell_type": "code",
   "execution_count": 4,
   "id": "5d3d43bb",
   "metadata": {},
   "outputs": [
    {
     "name": "stdout",
     "output_type": "stream",
     "text": [
      "Original Dataframe: \n",
      "  company\n",
      "0  #cc001\n",
      "1  485kk@\n",
      "2   ggty%\n",
      "3   &455k\n",
      "4  *uuy12\n",
      "\n",
      " After removing repitation from Dataframe: \n",
      "  company normal_text\n",
      "0  #cc001        #c01\n",
      "1  485kk@       485k@\n",
      "2   ggty%        gty%\n",
      "3   &455k        &45k\n",
      "4  *uuy12       *uy12\n"
     ]
    }
   ],
   "source": [
    "pd.set_option(\"display.max_columns\", (10))\n",
    "df = pd.DataFrame({'company': ['#cc001','485kk@','ggty%', '&455k', '*uuy12']})\n",
    "print(\"Original Dataframe: \")\n",
    "print(df)\n",
    "def rep_char(str1):\n",
    "    tchr = str1.group(0)\n",
    "    if len(tchr) > 1:\n",
    "        return tchr[0:1]\n",
    "def unique_char(rep, sent_text):\n",
    "    convert = re.sub(r'(\\w)\\1+',rep,sent_text)\n",
    "    return convert\n",
    "df['normal_text'] = df['company'].apply(lambda x : unique_char(rep_char,x))\n",
    "print(\"\\n After removing repitation from Dataframe: \")\n",
    "print(df)"
   ]
  },
  {
   "cell_type": "code",
   "execution_count": 13,
   "id": "d0e6530b",
   "metadata": {},
   "outputs": [
    {
     "name": "stdout",
     "output_type": "stream",
     "text": [
      "Original Dataframe: \n",
      "  numbers\n",
      "0    1000\n",
      "1     942\n",
      "2     845\n",
      "3     958\n",
      "4     910\n",
      "\n",
      " Extracting numbers greater than 940: \n",
      "  numbers   num\n",
      "0    1000  1000\n",
      "1     942   942\n",
      "2     845      \n",
      "3     958   958\n",
      "4     910      \n"
     ]
    }
   ],
   "source": [
    "\n",
    "df = pd.DataFrame({'numbers': ['1000','942','845', '958', '910']})\n",
    "print(\"Original Dataframe: \")\n",
    "print(df)\n",
    "def test_num_great(text):\n",
    "    num = re.findall(r'94[1-9]|9[5-9]\\d|[1-9]\\d{3,}',text)\n",
    "    return \" \".join(num)\n",
    "df['num'] = df['numbers'].apply(lambda x : test_num_great(x))\n",
    "print(\"\\n Extracting numbers greater than 940: \")\n",
    "print(df)\n",
    "        "
   ]
  },
  {
   "cell_type": "code",
   "execution_count": 16,
   "id": "2fa39edd",
   "metadata": {},
   "outputs": [
    {
     "name": "stdout",
     "output_type": "stream",
     "text": [
      "Original Dataframe: \n",
      "  numbers\n",
      "0      30\n",
      "1      99\n",
      "2      25\n",
      "3      58\n",
      "4     101\n",
      "\n",
      " Extracting numbers less than 100: \n",
      "  numbers num\n",
      "0      30  30\n",
      "1      99  99\n",
      "2      25  25\n",
      "3      58  58\n",
      "4     101    \n"
     ]
    }
   ],
   "source": [
    "df = pd.DataFrame({'numbers': ['30','99','25', '58', '101']})\n",
    "print(\"Original Dataframe: \")\n",
    "print(df)\n",
    "def test_num_less(text):\n",
    "    num = re.findall(r'\\b(0*(?:[1-9][0-9]?|100))\\b',text)\n",
    "    return \" \".join(num)\n",
    "df['num'] = df['numbers'].apply(lambda x : test_num_less(x))\n",
    "print(\"\\n Extracting numbers less than 100: \")\n",
    "print(df)"
   ]
  },
  {
   "cell_type": "code",
   "execution_count": 9,
   "id": "9d7a6389",
   "metadata": {},
   "outputs": [
    {
     "name": "stdout",
     "output_type": "stream",
     "text": [
      "Original Dataframe: \n",
      "  numbers            address\n",
      "0    1000  1900 present one.\n",
      "1     942    248 party wear.\n",
      "2     845       123 bgswbjw.\n",
      "3     958     1900 past one.\n",
      "4     910         458 nsbdu.\n",
      "\n",
      " Present two words: \n",
      "  numbers            address    check_two_words\n",
      "0    1000  1900 present one.  1900 present one.\n",
      "1     942    248 party wear.                   \n",
      "2     845       123 bgswbjw.                   \n",
      "3     958     1900 past one.     1900 past one.\n",
      "4     910         458 nsbdu.                   \n"
     ]
    }
   ],
   "source": [
    "\n",
    "df = pd.DataFrame({'numbers': ['1000','942','845', '958', '910'],\n",
    "                  'address': ['1900 present one.','248 party wear.','123 bgswbjw.','1900 past one.','458 nsbdu.']})\n",
    "print(\"Original Dataframe: \")\n",
    "print(df)\n",
    "def test_and_cond(text):\n",
    "    result = re.findall(r'(?=.*one.)(?=.*1900.).*', text) \n",
    "    return \" \".join(result)\n",
    "df['check_two_words'] = df['address'].apply(lambda x : test_and_cond(x))\n",
    "print(\"\\n Present two words: \")\n",
    "print(df)\n",
    "\n",
    "\n"
   ]
  },
  {
   "cell_type": "code",
   "execution_count": 15,
   "id": "61bacff3",
   "metadata": {},
   "outputs": [
    {
     "name": "stdout",
     "output_type": "stream",
     "text": [
      "Original Dataframe: \n",
      "  numbers            address        date\n",
      "0    1000  1900 present one.  30/11/1991\n",
      "1     942    248 party wear.   3/11/1991\n",
      "2     845       123 bgswbjw.   18/9/1987\n",
      "3     958     1900 past one.    1/8/1992\n",
      "\n",
      " valid dates in format mm/dd/yyyy: \n",
      "  numbers            address        date find_date\n",
      "0    1000  1900 present one.  30/11/1991          \n",
      "1     942    248 party wear.   3/11/1991          \n",
      "2     845       123 bgswbjw.   18/9/1987          \n",
      "3     958     1900 past one.    1/8/1992          \n"
     ]
    }
   ],
   "source": [
    "df = pd.DataFrame({'numbers': ['1000','942','845', '958'],\n",
    "                  'address': ['1900 present one.','248 party wear.','123 bgswbjw.','1900 past one.'],\n",
    "                  'date': ['30/11/1991','3/11/1991','18/9/1987','1/8/1992']})\n",
    "print(\"Original Dataframe: \")\n",
    "print(df)\n",
    "def find_date(text):\n",
    "    result = re.findall(r'\\b(1[0-2]|0[1-9])/(3[01]|[12][0-9]|0[1-9])/([0-9]{4})\\b',text)\n",
    "    return \" \".join(result)\n",
    "df['find_date'] = df['date'].apply(lambda x : find_date(x))\n",
    "print(\"\\n valid dates in format mm/dd/yyyy: \")\n",
    "print(df)"
   ]
  },
  {
   "cell_type": "code",
   "execution_count": 19,
   "id": "1c39ca87",
   "metadata": {},
   "outputs": [
    {
     "name": "stdout",
     "output_type": "stream",
     "text": [
      "Original DataFrame:\n",
      "  company_code date_of_sale                   address\n",
      "0         Abcd   12/05/2002          9910 Surrey Ave.\n",
      "1         EFGF   16/02/1999         92 N. Bishop Ave.\n",
      "2      zefsalf   05/09/1998     9910 Golden Star Ave.\n",
      "3      sdfslew   12/02/2022            102 Dunbar St.\n",
      "4      zekfsdf   15/09/1997  17 West Livingston Court\n",
      "\n",
      "Only words:\n",
      "  company_code date_of_sale                   address             only_words\n",
      "0         Abcd   12/05/2002          9910 Surrey Ave.             Surrey Ave\n",
      "1         EFGF   16/02/1999         92 N. Bishop Ave.           N Bishop Ave\n",
      "2      zefsalf   05/09/1998     9910 Golden Star Ave.        Golden Star Ave\n",
      "3      sdfslew   12/02/2022            102 Dunbar St.              Dunbar St\n",
      "4      zekfsdf   15/09/1997  17 West Livingston Court  West Livingston Court\n"
     ]
    }
   ],
   "source": [
    "#df = pd.DataFrame({'numbers': ['1000','942','845', '958'],\n",
    " #                 'address': ['1900 present one.','248 party wear.','123 bgswbjw.','1900 past one.'],\n",
    "  #                'date': ['30/11/1991','3/11/1991','18/9/1987','1/8/1992']})\n",
    "#print(\"Original Dataframe: \")\n",
    "#print(df)\n",
    "#def find_words(text):\n",
    "#    result = re.findall(r'\\b[^\\d\\w]+\\b', text)\n",
    " #   return \" \".join(result)\n",
    "\n",
    "#df['only_words'] = df['address'].apply(lambda x : find_words(x))\n",
    "#print(\"\\n Extract only words: \")\n",
    "#print(df)\n",
    "df = pd.DataFrame({\n",
    "    'company_code': ['Abcd','EFGF', 'zefsalf', 'sdfslew', 'zekfsdf'],\n",
    "    'date_of_sale': ['12/05/2002','16/02/1999','05/09/1998','12/02/2022','15/09/1997'],\n",
    "    'address': ['9910 Surrey Ave.','92 N. Bishop Ave.','9910 Golden Star Ave.', '102 Dunbar St.', '17 West Livingston Court']\n",
    "})\n",
    "print(\"Original DataFrame:\")\n",
    "print(df)\n",
    "\n",
    "def search_words(text):\n",
    "    result = re.findall(r'\\b[^\\d\\W]+\\b', text)\n",
    "    return \" \".join(result)\n",
    "\n",
    "df['only_words']=df['address'].apply(lambda x : search_words(x))\n",
    "print(\"\\nOnly words:\")\n",
    "print(df)"
   ]
  },
  {
   "cell_type": "code",
   "execution_count": 20,
   "id": "553975b2",
   "metadata": {},
   "outputs": [
    {
     "name": "stdout",
     "output_type": "stream",
     "text": [
      "Original DataFrame:\n",
      "  company_code date_of_sale                   address\n",
      "0         Abcd   12/05/2002       9910 Surrey Avenue.\n",
      "1         EFGF   16/02/1999      92 N. Bishop Avenue.\n",
      "2      zefsalf   05/09/1998  9910 Golden Star Avenue.\n",
      "3      sdfslew   12/02/2022            102 Dunbar St.\n",
      "4      zekfsdf   15/09/1997  17 West Livingston Court\n",
      "\n",
      " Sentence: \n",
      "  company_code date_of_sale                   address  \\\n",
      "0         Abcd   12/05/2002       9910 Surrey Avenue.   \n",
      "1         EFGF   16/02/1999      92 N. Bishop Avenue.   \n",
      "2      zefsalf   05/09/1998  9910 Golden Star Avenue.   \n",
      "3      sdfslew   12/02/2022            102 Dunbar St.   \n",
      "4      zekfsdf   15/09/1997  17 West Livingston Court   \n",
      "\n",
      "             filter_sentence  \n",
      "0       [9910 Surrey Avenue]  \n",
      "1           [ Bishop Avenue]  \n",
      "2  [9910 Golden Star Avenue]  \n",
      "3                         []  \n",
      "4                         []  \n"
     ]
    }
   ],
   "source": [
    "df = pd.DataFrame({\n",
    "    'company_code': ['Abcd','EFGF', 'zefsalf', 'sdfslew', 'zekfsdf'],\n",
    "    'date_of_sale': ['12/05/2002','16/02/1999','05/09/1998','12/02/2022','15/09/1997'],\n",
    "    'address': ['9910 Surrey Avenue.','92 N. Bishop Avenue.','9910 Golden Star Avenue.', '102 Dunbar St.', '17 West Livingston Court']\n",
    "})\n",
    "print(\"Original DataFrame:\")\n",
    "print(df)\n",
    "\n",
    "def pick_only_key_sentence(str1,word):\n",
    "    result = re.findall(r'([^.]*'+word+'[^.]*)', str1)\n",
    "    return result\n",
    "\n",
    "df['filter_sentence']=df['address'].apply(lambda x : pick_only_key_sentence(x,'Avenue'))\n",
    "print(\"\\n Sentence: \")\n",
    "print(df)"
   ]
  },
  {
   "cell_type": "code",
   "execution_count": 29,
   "id": "51cefd07",
   "metadata": {},
   "outputs": [
    {
     "name": "stdout",
     "output_type": "stream",
     "text": [
      "Original DataFrame:\n",
      "  company_code date_of_sale                                     address\n",
      "0         Abcd   12/05/2002            9910 Survey Ave\\n9910 Survey Ave\n",
      "1         EFGF   16/02/1999                            92 N. Bishop Ave\n",
      "2      zefsalf   05/09/1998  9910 Golden Star Ave\\n9910 Golden Star Ave\n",
      "3      sdfslew   12/02/2022                               102 Dunbar St\n",
      "4      zekfsdf   15/09/1997                    17 West Livingston Court\n",
      "\n",
      "unique sentences:\n",
      "  company_code date_of_sale                                     address  \\\n",
      "0         Abcd   12/05/2002            9910 Survey Ave\\n9910 Survey Ave   \n",
      "1         EFGF   16/02/1999                            92 N. Bishop Ave   \n",
      "2      zefsalf   05/09/1998  9910 Golden Star Ave\\n9910 Golden Star Ave   \n",
      "3      sdfslew   12/02/2022                               102 Dunbar St   \n",
      "4      zekfsdf   15/09/1997                    17 West Livingston Court   \n",
      "\n",
      "             unique_sentences  \n",
      "0           [9910 Survey Ave]  \n",
      "1          [92 N. Bishop Ave]  \n",
      "2      [9910 Golden Star Ave]  \n",
      "3             [102 Dunbar St]  \n",
      "4  [17 West Livingston Court]  \n"
     ]
    }
   ],
   "source": [
    "df = pd.DataFrame({\n",
    "    'company_code': ['Abcd','EFGF', 'zefsalf', 'sdfslew', 'zekfsdf'],\n",
    "    'date_of_sale': ['12/05/2002','16/02/1999','05/09/1998','12/02/2022','15/09/1997'],\n",
    "    'address': ['9910 Survey Ave\\n9910 Survey Ave','92 N. Bishop Ave','9910 Golden Star Ave\\n9910 Golden Star Ave', '102 Dunbar St', '17 West Livingston Court']\n",
    "})\n",
    "print(\"Original DataFrame:\")\n",
    "print(df)\n",
    "\n",
    "def find_unique_sentences(str1):\n",
    "    result = re.findall(r'(?sm)(^[^\\r\\n]+$)(?!.*^\\1$)', str1)\n",
    "    return result\n",
    "\n",
    "df['unique_sentences']=df['address'].apply(lambda st : find_unique_sentences(st))\n",
    "print(\"\\nunique sentences:\")\n",
    "print(df)\n"
   ]
  },
  {
   "cell_type": "code",
   "execution_count": 30,
   "id": "a36f2dec",
   "metadata": {},
   "outputs": [
    {
     "name": "stdout",
     "output_type": "stream",
     "text": [
      "Original DataFrame:\n",
      "  company_code date_of_sale                             address\n",
      "0         Abcd   12/05/2002   Surrey Avenue\\n9910 Surrey Avenue\n",
      "1         EFGF   16/02/1999                 92 N. Bishop Avenue\n",
      "2      zefsalf   05/09/1998             9910 Golden Star Avenue\n",
      "3      Sdfslew   12/02/2022      102 Dunbar St.\\n102 Dunbar St.\n",
      "4      Zekfsdf   15/09/1997            17 West Livingston Court\n",
      "\n",
      " words starts with capital: \n",
      "  company_code date_of_sale                             address capital_words\n",
      "0         Abcd   12/05/2002   Surrey Avenue\\n9910 Surrey Avenue        [Abcd]\n",
      "1         EFGF   16/02/1999                 92 N. Bishop Avenue        [EFGF]\n",
      "2      zefsalf   05/09/1998             9910 Golden Star Avenue            []\n",
      "3      Sdfslew   12/02/2022      102 Dunbar St.\\n102 Dunbar St.     [Sdfslew]\n",
      "4      Zekfsdf   15/09/1997            17 West Livingston Court     [Zekfsdf]\n"
     ]
    }
   ],
   "source": [
    "df = pd.DataFrame({\n",
    "    'company_code': ['Abcd','EFGF', 'zefsalf', 'Sdfslew', 'Zekfsdf'],\n",
    "    'date_of_sale': ['12/05/2002','16/02/1999','05/09/1998','12/02/2022','15/09/1997'],\n",
    "    'address': [' Surrey Avenue\\n9910 Surrey Avenue','92 N. Bishop Avenue','9910 Golden Star Avenue', '102 Dunbar St.\\n102 Dunbar St.', '17 West Livingston Court']\n",
    "})\n",
    "\n",
    "print(\"Original DataFrame:\")\n",
    "print(df)\n",
    "\n",
    "def find_capital(text):\n",
    "    result = re.findall(r'\\b[A-Z]\\w+', text)\n",
    "    return result\n",
    "\n",
    "df['capital_words']=df['company_code'].apply(lambda x : find_capital(x))\n",
    "print(\"\\n words starts with capital: \")\n",
    "print(df)\n"
   ]
  },
  {
   "cell_type": "code",
   "execution_count": 32,
   "id": "056f67c6",
   "metadata": {},
   "outputs": [
    {
     "name": "stdout",
     "output_type": "stream",
     "text": [
      "Original DataFrame:\n",
      "  company_code date_of_sale                      address\n",
      "0         Abcd   12/05/2002    9910 Surrey <b>Avenue</b>\n",
      "1         EFGF   16/02/1999          92 N. Bishop Avenue\n",
      "2      zefsalf   05/09/1998  9910 <br>Golden Star Avenue\n",
      "3      sdfslew   12/02/2022        102 Dunbar <i></i>St.\n",
      "4      zekfsdf   15/09/1997     17 West Livingston Court\n",
      "\n",
      " sentence after tags: \n",
      "  company_code date_of_sale                      address  \\\n",
      "0         Abcd   12/05/2002    9910 Surrey <b>Avenue</b>   \n",
      "1         EFGF   16/02/1999          92 N. Bishop Avenue   \n",
      "2      zefsalf   05/09/1998  9910 <br>Golden Star Avenue   \n",
      "3      sdfslew   12/02/2022        102 Dunbar <i></i>St.   \n",
      "4      zekfsdf   15/09/1997     17 West Livingston Court   \n",
      "\n",
      "               without_tags  \n",
      "0        9910 Surrey Avenue  \n",
      "1       92 N. Bishop Avenue  \n",
      "2   9910 Golden Star Avenue  \n",
      "3            102 Dunbar St.  \n",
      "4  17 West Livingston Court  \n"
     ]
    }
   ],
   "source": [
    "df = pd.DataFrame({\n",
    "    'company_code': ['Abcd','EFGF', 'zefsalf', 'sdfslew', 'zekfsdf'],\n",
    "    'date_of_sale': ['12/05/2002','16/02/1999','05/09/1998','12/02/2022','15/09/1997'],\n",
    "     'address': ['9910 Surrey <b>Avenue</b>','92 N. Bishop Avenue','9910 <br>Golden Star Avenue', '102 Dunbar <i></i>St.', '17 West Livingston Court']\n",
    "})\n",
    "print(\"Original DataFrame:\")\n",
    "print(df)\n",
    "\n",
    "def remove_tags(str1):\n",
    "    result = re.sub('<.*?>','', str1)\n",
    "    return result\n",
    "\n",
    "df['without_tags']=df['address'].apply(lambda st : remove_tags(st))\n",
    "print(\"\\n sentence after tags: \")\n",
    "print(df)                \n"
   ]
  },
  {
   "cell_type": "code",
   "execution_count": null,
   "id": "f9c7bef2",
   "metadata": {},
   "outputs": [],
   "source": []
  }
 ],
 "metadata": {
  "kernelspec": {
   "display_name": "Python 3",
   "language": "python",
   "name": "python3"
  },
  "language_info": {
   "codemirror_mode": {
    "name": "ipython",
    "version": 3
   },
   "file_extension": ".py",
   "mimetype": "text/x-python",
   "name": "python",
   "nbconvert_exporter": "python",
   "pygments_lexer": "ipython3",
   "version": "3.8.8"
  }
 },
 "nbformat": 4,
 "nbformat_minor": 5
}
